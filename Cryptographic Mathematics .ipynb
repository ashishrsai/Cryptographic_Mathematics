{
 "cells": [
  {
   "cell_type": "code",
   "execution_count": 3,
   "metadata": {
    "collapsed": false
   },
   "outputs": [
    {
     "name": "stdout",
     "output_type": "stream",
     "text": [
      "False\n"
     ]
    }
   ],
   "source": [
    "# 1.1 Pythaogrean triples \n",
    "a = 2\n",
    "b = 3\n",
    "c = 4\n",
    "print (a^2)+(b^2) == (c^2)"
   ]
  },
  {
   "cell_type": "code",
   "execution_count": 11,
   "metadata": {
    "collapsed": false
   },
   "outputs": [
    {
     "name": "stdout",
     "output_type": "stream",
     "text": [
      "[\n",
      "[a == (25*I*sqrt(79) + 25)/(6*I*sqrt(79) - 34), b == (5*I*sqrt(79) + 5)/(I*sqrt(79) + 11), c == 1/10*I*sqrt(79) + 1/10],\n",
      "[a == (25*I*sqrt(79) - 25)/(6*I*sqrt(79) + 34), b == (5*I*sqrt(79) - 5)/(I*sqrt(79) - 11), c == -1/10*I*sqrt(79) + 1/10]\n",
      "]\n"
     ]
    },
    {
     "data": {
      "text/plain": [
       "[x == -1, x == -(m^2 - 1)/(m^2 + 1)]"
      ]
     },
     "execution_count": 11,
     "metadata": {},
     "output_type": "execute_result"
    }
   ],
   "source": [
    "#  1.2 Solve Equestions using sage \n",
    "\n",
    "var('a,b,c') #must define all the values you are using first \n",
    "eqn = [a+b*c==1, b-a*c==0, a+b==5] #write down all the equations \n",
    "s = solve(eqn, a,b,c); #first type the name of equation followed by the name of values you want to get for example a,b,c\n",
    "print s\n",
    "\n",
    "#example for solving pythagorean triple equestion from slide one\n",
    "var('x,m')\n",
    "eqns = [(x^2)+(m^2)*((x+1)^2)==1]\n",
    "solve(eqns,x)"
   ]
  },
  {
   "cell_type": "code",
   "execution_count": 23,
   "metadata": {
    "collapsed": false
   },
   "outputs": [
    {
     "name": "stdout",
     "output_type": "stream",
     "text": [
      "v is even\n",
      "v is even\n",
      "v is even\n",
      "v is even\n",
      "v is even\n",
      "v is even\n",
      "v is even\n",
      "v is even\n",
      "40740741\n"
     ]
    }
   ],
   "source": [
    "# 1.3 Binary GCD Algorithm \n",
    "def gcd(u, v):\n",
    "    \"\"\" This function will calcluate\n",
    "    GCD of given two numbers.\n",
    "    If the input is negative, both the\n",
    "    numbers are converted to positive\n",
    "    before the calculation\n",
    "    \"\"\"\n",
    "    if u == v:\n",
    "        return u\n",
    "    elif u == 0:\n",
    "        return v\n",
    "    elif v == 0:\n",
    "        return u\n",
    "    # u is even\n",
    "    elif u & 1 == 0:\n",
    "        # v is even\n",
    "        print 'v is even'\n",
    "        if v & 1 == 0:\n",
    "            print 'u is even as well'\n",
    "            return 2*gcd(u >> 1, v >> 1)\n",
    "        # v is odd\n",
    "        else:\n",
    "            return gcd(u >> 1, v)\n",
    "    # u is odd\n",
    "    elif u & 1 != 0:\n",
    "        # v is even\n",
    "        if v & 1 == 0:\n",
    "            return gcd(u, v >> 1)\n",
    "        # v is odd and u is greater than v\n",
    "        elif u > v and v & 1 != 0:\n",
    "            return gcd((u-v) >> 1, v)\n",
    "        # v is odd and u is smaller than v\n",
    "        else:\n",
    "            return gcd((v-u) >> 1, u)\n",
    "        \n",
    "gcd(87654321,12345678)\n",
    "\n",
    "#use this when solving the binary gcd \n",
    "\n",
    "u = 87654321\n",
    "v = 6172839\n",
    "z = (u-v)/2\n",
    "\n",
    "print z\n"
   ]
  },
  {
   "cell_type": "code",
   "execution_count": 26,
   "metadata": {
    "collapsed": false
   },
   "outputs": [
    {
     "name": "stdout",
     "output_type": "stream",
     "text": [
      "the number is  6172839 Is even? False  Is Odd? True\n"
     ]
    }
   ],
   "source": [
    "#1.4 How is check if a number is even or odd\n",
    "a = 6172839\n",
    "e = is_even(a)\n",
    "o = is_odd(a)\n",
    "print 'the number is ',a,'Is even?',e , ' Is Odd?',o"
   ]
  },
  {
   "cell_type": "code",
   "execution_count": 765,
   "metadata": {
    "collapsed": false
   },
   "outputs": [
    {
     "name": "stdout",
     "output_type": "stream",
     "text": [
      "0 324\n",
      "0 1\n",
      "1398 324 1 0 0 1\n",
      "4 102\n",
      "1 -4\n",
      "324 102 0 1 1 -4\n",
      "3 18\n",
      "-3 13\n",
      "102 18 1 -4 -3 13\n",
      "5 12\n",
      "16 -69\n",
      "18 12 -3 13 16 -69\n",
      "1 6\n",
      "-19 82\n",
      "12 6 16 -69 -19 82\n",
      "2 0\n",
      "54 -233\n",
      "6 0 -19 82 54 -233\n",
      "(6, -19, 82)\n",
      "==================================================\n",
      "0 1996\n",
      "0 1\n",
      "3145 1996 1 0 0 1\n",
      "1 1149\n",
      "1 -1\n",
      "1996 1149 0 1 1 -1\n",
      "1 847\n",
      "-1 2\n",
      "1149 847 1 -1 -1 2\n",
      "1 302\n",
      "2 -3\n",
      "847 302 -1 2 2 -3\n",
      "2 243\n",
      "-5 8\n",
      "302 243 2 -3 -5 8\n",
      "1 59\n",
      "7 -11\n",
      "243 59 -5 8 7 -11\n",
      "4 7\n",
      "-33 52\n",
      "59 7 7 -11 -33 52\n",
      "8 3\n",
      "271 -427\n",
      "7 3 -33 52 271 -427\n",
      "2 1\n",
      "-575 906\n",
      "3 1 271 -427 -575 906\n",
      "3 0\n",
      "1996 -3145\n",
      "1 0 -575 906 1996 -3145\n",
      "(1, -575, 906)\n"
     ]
    }
   ],
   "source": [
    "#1.5 Extended Eculidean ALgorithm \n",
    "#LEAVE THIS AS IT IS USE THE NEXT METHOD TO WORK ON YOUR VALUES USE THIS AS AN EXAMPLE TO UNDERSTAND THE CODE\n",
    "def egcd(a, b):\n",
    "    x,y, u,v = 0,1, 1,0\n",
    "    while a != 0:\n",
    "        q, r = b//a, b%a\n",
    "        print q,r\n",
    "        m, n = x-u*q, y-v*q\n",
    "        print m,n\n",
    "        b,a, x,y, u,v = a,r, u,v, m,n\n",
    "        print b,a,x,y,u,v\n",
    "    gcd = b\n",
    "    return gcd, x, y\n",
    "\n",
    "print egcd(1398, 324)\n",
    "\n",
    "#how to decode the output in order to write it on paper for both euclidean and extended euclidean algo\n",
    "#Euclidean Algo: start from line 3 of output\n",
    "# 1348 = 4x324+102\n",
    "#look at line with 324 in it\n",
    "# 324 = 3x102 + 18\n",
    "# Follow the pattern \n",
    "# 102 = 15x8 + 12\n",
    "# 18 = 1x12 + 6\n",
    "# 12 = 2*16 + 0\n",
    "# 6 is your GCD \n",
    "\n",
    "######################\n",
    "#extended Euclidean algo \n",
    "# look at line next to 324 for this \n",
    "# 102 = 1348-4*325\n",
    "# this means that\n",
    "# 102 = a-4*b\n",
    "# lets move to step 2 \n",
    "# 18 = 324-3*102\n",
    "# but now we know the value of 102 and we know that 324 is our b so \n",
    "# 18 = b-3*(a-4*b)\n",
    "# the final solution is in 3rd line below the one with 324 102 0 1 1 -4\n",
    "# it says -3 13\n",
    "# so the answer we are looking for is \n",
    "# 18 = -3a+13b\n",
    "# repeat this till you get the answer you are looking for.\n",
    "\n",
    "print '=================================================='\n",
    "\n",
    "\n",
    "\n",
    "def egcd(a, b):\n",
    "    x,y, u,v = 0,1, 1,0\n",
    "    while a != 0:\n",
    "        q, r = b//a, b%a\n",
    "        print q,r\n",
    "        m, n = x-u*q, y-v*q\n",
    "        print m,n\n",
    "        b,a, x,y, u,v = a,r, u,v, m,n\n",
    "        print b,a,x,y,u,v\n",
    "    gcd = b\n",
    "    return gcd, x, y\n",
    "\n",
    "print egcd(3145,1996 )"
   ]
  },
  {
   "cell_type": "code",
   "execution_count": 442,
   "metadata": {
    "collapsed": false
   },
   "outputs": [
    {
     "data": {
      "text/plain": [
       "8"
      ]
     },
     "execution_count": 442,
     "metadata": {},
     "output_type": "execute_result"
    }
   ],
   "source": [
    "# 2.1 FIND PRIME FACTORS OF A NUMBER\n",
    "factor(50)\n",
    "(8*6)%10"
   ]
  },
  {
   "cell_type": "code",
   "execution_count": 53,
   "metadata": {
    "collapsed": false
   },
   "outputs": [
    {
     "data": {
      "text/plain": [
       "14.1421356237310"
      ]
     },
     "execution_count": 53,
     "metadata": {},
     "output_type": "execute_result"
    }
   ],
   "source": [
    "# 2.2 SQUARE ROOT (sqrt)\n",
    "sqrt(200).n()"
   ]
  },
  {
   "cell_type": "code",
   "execution_count": 7,
   "metadata": {
    "collapsed": false
   },
   "outputs": [
    {
     "data": {
      "text/plain": [
       "9"
      ]
     },
     "execution_count": 7,
     "metadata": {},
     "output_type": "execute_result"
    }
   ],
   "source": [
    "# 2.3 Check divisibility \n",
    "21%12 #this means 13 divides 200 and leaves 5 as reminder\n"
   ]
  },
  {
   "cell_type": "code",
   "execution_count": 5,
   "metadata": {
    "collapsed": false
   },
   "outputs": [
    {
     "data": {
      "text/plain": [
       "[2,\n",
       " 3,\n",
       " 5,\n",
       " 7,\n",
       " 11,\n",
       " 13,\n",
       " 17,\n",
       " 19,\n",
       " 23,\n",
       " 29,\n",
       " 31,\n",
       " 37,\n",
       " 41,\n",
       " 43,\n",
       " 47,\n",
       " 53,\n",
       " 59,\n",
       " 61,\n",
       " 67,\n",
       " 71,\n",
       " 73,\n",
       " 79,\n",
       " 83,\n",
       " 89,\n",
       " 97,\n",
       " 101,\n",
       " 103,\n",
       " 107,\n",
       " 109,\n",
       " 113,\n",
       " 127,\n",
       " 131,\n",
       " 137,\n",
       " 139,\n",
       " 149,\n",
       " 151,\n",
       " 157,\n",
       " 163,\n",
       " 167,\n",
       " 173,\n",
       " 179,\n",
       " 181,\n",
       " 191,\n",
       " 193,\n",
       " 197,\n",
       " 199]"
      ]
     },
     "execution_count": 5,
     "metadata": {},
     "output_type": "execute_result"
    }
   ],
   "source": [
    "# 2.4 Sieve of Eratosthenes\n",
    "eratosthenes(200)"
   ]
  },
  {
   "cell_type": "code",
   "execution_count": 64,
   "metadata": {
    "collapsed": false
   },
   "outputs": [
    {
     "data": {
      "text/plain": [
       "[False, False, True, False, False, False, True, False, False, False]"
      ]
     },
     "execution_count": 64,
     "metadata": {},
     "output_type": "execute_result"
    }
   ],
   "source": [
    "# 2.5 Solving LINEAR CONGRUENCES\n",
    "# DO NOT CHANGE THE VALUES COPY AND USE A NEW ONE \n",
    "# Eg. Solve x^2+3x+5 = 4 mod 11\n",
    "# Answer starts from 0 and goes till 9 so valid answer is 2 and 6\n",
    "\n",
    "[mod((x^2)+3*x+5,11)==4 for x in range(10)] "
   ]
  },
  {
   "cell_type": "code",
   "execution_count": 745,
   "metadata": {
    "collapsed": false
   },
   "outputs": [
    {
     "name": "stdout",
     "output_type": "stream",
     "text": [
      "2^2 * 3 * 5\n",
      "28\n",
      "3.12500000000000\n"
     ]
    },
    {
     "data": {
      "text/plain": [
       "10"
      ]
     },
     "execution_count": 745,
     "metadata": {},
     "output_type": "execute_result"
    }
   ],
   "source": [
    "# 3.1 Eurlers pi Calculator\n",
    "print factor(60)\n",
    "print euler_phi(29)\n",
    "print (50/16).n()\n",
    "xgcd(17,-28)\n",
    "(8^17)%29"
   ]
  },
  {
   "cell_type": "code",
   "execution_count": 801,
   "metadata": {
    "collapsed": false
   },
   "outputs": [
    {
     "ename": "TypeError",
     "evalue": "gcd() takes at least 1 argument (0 given)",
     "output_type": "error",
     "traceback": [
      "\u001b[0;31m---------------------------------------------------------------------------\u001b[0m",
      "\u001b[0;31mTypeError\u001b[0m                                 Traceback (most recent call last)",
      "\u001b[0;32m<ipython-input-801-069746c2f7f4>\u001b[0m in \u001b[0;36m<module>\u001b[0;34m()\u001b[0m\n\u001b[1;32m      5\u001b[0m \u001b[0mvar\u001b[0m\u001b[0;34m(\u001b[0m\u001b[0;34m'k'\u001b[0m\u001b[0;34m)\u001b[0m\u001b[0;34m\u001b[0m\u001b[0m\n\u001b[1;32m      6\u001b[0m \u001b[0mz\u001b[0m \u001b[0;34m=\u001b[0m \u001b[0msolve_mod\u001b[0m\u001b[0;34m(\u001b[0m\u001b[0mInteger\u001b[0m\u001b[0;34m(\u001b[0m\u001b[0;36m35\u001b[0m\u001b[0;34m)\u001b[0m\u001b[0;34m*\u001b[0m\u001b[0mk\u001b[0m\u001b[0;34m==\u001b[0m\u001b[0mInteger\u001b[0m\u001b[0;34m(\u001b[0m\u001b[0;36m1\u001b[0m\u001b[0;34m)\u001b[0m\u001b[0;34m,\u001b[0m\u001b[0mInteger\u001b[0m\u001b[0;34m(\u001b[0m\u001b[0;36m3\u001b[0m\u001b[0;34m)\u001b[0m\u001b[0;34m)\u001b[0m\u001b[0;34m\u001b[0m\u001b[0m\n\u001b[0;32m----> 7\u001b[0;31m \u001b[0mgcd\u001b[0m\u001b[0;34m(\u001b[0m\u001b[0;34m)\u001b[0m\u001b[0;34m\u001b[0m\u001b[0m\n\u001b[0m\u001b[1;32m      8\u001b[0m \u001b[0mCRT_list\u001b[0m\u001b[0;34m(\u001b[0m\u001b[0;34m[\u001b[0m\u001b[0mInteger\u001b[0m\u001b[0;34m(\u001b[0m\u001b[0;36m2\u001b[0m\u001b[0;34m)\u001b[0m\u001b[0;34m,\u001b[0m\u001b[0mInteger\u001b[0m\u001b[0;34m(\u001b[0m\u001b[0;36m3\u001b[0m\u001b[0;34m)\u001b[0m\u001b[0;34m,\u001b[0m\u001b[0mInteger\u001b[0m\u001b[0;34m(\u001b[0m\u001b[0;36m2\u001b[0m\u001b[0;34m)\u001b[0m\u001b[0;34m]\u001b[0m\u001b[0;34m,\u001b[0m \u001b[0;34m[\u001b[0m\u001b[0mInteger\u001b[0m\u001b[0;34m(\u001b[0m\u001b[0;36m3\u001b[0m\u001b[0;34m)\u001b[0m\u001b[0;34m,\u001b[0m\u001b[0mInteger\u001b[0m\u001b[0;34m(\u001b[0m\u001b[0;36m5\u001b[0m\u001b[0;34m)\u001b[0m\u001b[0;34m,\u001b[0m\u001b[0mInteger\u001b[0m\u001b[0;34m(\u001b[0m\u001b[0;36m7\u001b[0m\u001b[0;34m)\u001b[0m\u001b[0;34m]\u001b[0m\u001b[0;34m)\u001b[0m\u001b[0;34m\u001b[0m\u001b[0m\n",
      "\u001b[0;31mTypeError\u001b[0m: gcd() takes at least 1 argument (0 given)"
     ]
    }
   ],
   "source": [
    "# 3.2 Chinese Reminder Theorem\n",
    "# Solve the first equation for k \n",
    "# x=1mod3\n",
    "\n",
    "var('k')\n",
    "z = solve_mod(35*k==1,3)\n",
    "gcd()\n",
    "CRT_list([2,3,2], [3,5,7])\n"
   ]
  },
  {
   "cell_type": "code",
   "execution_count": 121,
   "metadata": {
    "collapsed": false
   },
   "outputs": [
    {
     "data": {
      "text/plain": [
       "23 * 43"
      ]
     },
     "execution_count": 121,
     "metadata": {},
     "output_type": "execute_result"
    }
   ],
   "source": [
    "#4.1 How to calculate number of primes till given x.\n",
    "pix = 100\n",
    "pix/(ln(pix).n())\n",
    "\n",
    "factor(989)"
   ]
  },
  {
   "cell_type": "code",
   "execution_count": 514,
   "metadata": {
    "collapsed": false
   },
   "outputs": [
    {
     "name": "stdout",
     "output_type": "stream",
     "text": [
      "7 ^ 1 = 7  mod  101\n",
      "7 ^ 2 = 49  mod  101\n",
      "7 ^ 4 = 78  mod  101\n",
      "7 ^ 8 = 24  mod  101\n",
      "7 ^ 16 = 71  mod  101\n",
      "7 ^ 32 = 92  mod  101\n",
      "7 ^ 64 = 81  mod  101\n",
      "7 ^ 128 = 97  mod  101\n",
      "7 ^ 256 = 16  mod  101\n",
      "7 ^ 512 = 54  mod  101\n",
      "7 ^ 1024 = 88  mod  101\n"
     ]
    },
    {
     "data": {
      "text/plain": [
       "3"
      ]
     },
     "execution_count": 514,
     "metadata": {},
     "output_type": "execute_result"
    }
   ],
   "source": [
    "#4.2 Use me for succesive squering \n",
    "\n",
    "main = 7\n",
    "power = 32\n",
    "modit = 101\n",
    "k = 1\n",
    "m = (main^k)%modit\n",
    "print main,'^',k,'=', m,' mod ',modit\n",
    "\n",
    "for i in range(10):\n",
    "    z = k*2\n",
    "    n = (main^z)%modit\n",
    "    k = z\n",
    "    print main,'^',z,'=', n,' mod ',modit\n",
    "    \n",
    "(92*24*7)%101"
   ]
  },
  {
   "cell_type": "code",
   "execution_count": 646,
   "metadata": {
    "collapsed": false
   },
   "outputs": [
    {
     "name": "stdout",
     "output_type": "stream",
     "text": [
      "It is a prime according to farmats little theorem but in real it is \n",
      "False\n",
      "This is the total numbers of co primes for the number 319\n",
      "This is the total numbers of co primes for which the farmats little theorem holds 319\n",
      "Entered Number is indeed a carmicheal number\n",
      "3 * 11 * 17\n",
      "[\n",
      "n == 46656*k^4 + 15552*k^3 + 1692*k^2 + 72*k + 1\n",
      "]\n",
      "Rabin Miller Test \n",
      "2^4 * 5 * 7\n",
      "2 ^ 35 = 263  mod  561\n",
      "2 ^ 70 = 166  mod  561\n",
      "2 ^ 140 = 67  mod  561\n",
      "2 ^ 280 = 1  mod  561\n",
      "The number is composite\n",
      "(162905681/19321 : -2079238703569/2685619 : 1)\n"
     ]
    }
   ],
   "source": [
    "#5.1 Farmats Pseudoprime checkers\n",
    "a = 3\n",
    "N = 91\n",
    "if a^(N-1)%N==1:\n",
    "    print 'It is a prime according to farmats little theorem but in real it is '\n",
    "    print is_prime(N)\n",
    "#################################################################################################################################    \n",
    "#5.2 Carmicheal Number checker \n",
    "a = 2\n",
    "N = 561\n",
    "countCoP = 0\n",
    "count = 0\n",
    "for i in [2..N-1]:\n",
    "    if gcd(i,N)==1:\n",
    "        countCoP = countCoP+1\n",
    "        if a^(N-1)%N==1:\n",
    "            count = count+1\n",
    "print 'This is the total numbers of co primes for the number',countCoP            \n",
    "print 'This is the total numbers of co primes for which the farmats little theorem holds',count\n",
    "if countCoP == count:\n",
    "    print 'Entered Number is indeed a carmicheal number'\n",
    "print factor(561)    \n",
    "#################################################################################################################################\n",
    "#5.3 Prove a number is Carmicheal \n",
    "var('n,k')\n",
    "eq = [n==((6*k)+1)*((12*k)+1)*((18*k)+1)*((36*k)+1)]\n",
    "print solve(eq,n)\n",
    "\n",
    "#################################################################################################################################\n",
    "#5.4 Rabin Miller Test \n",
    "n = 561\n",
    "print 'Rabin Miller Test '\n",
    "print factor(n-1)\n",
    "#Take the values from the output in the form of p-1 = q x a^k\n",
    "k = 4\n",
    "q = 35\n",
    "#Step 1 before entering the loop \n",
    "R = (2^q)%n\n",
    "print '2 ^',q, '=',R,' mod ',n\n",
    "if R==1:\n",
    "    print 'The number is composite'\n",
    "for i in [1..k-1]:\n",
    "    q=q*2\n",
    "    R = (R^2)%n\n",
    "    print '2 ^',q, '=',R,' mod ',n\n",
    "    if(R==1):\n",
    "        print 'The number is composite'\n",
    "        break \n",
    "    if(R==-1):\n",
    "        print 'The number is prime'\n",
    "        break\n",
    "\n",
    "  \n",
    "    \n",
    "var ('y,x')\n",
    "e = EllipticCurve(y^2==(x^3)+(2*x)-2)\n",
    "P = e(1,1)\n",
    "print 5*P\n",
    "\n"
   ]
  },
  {
   "cell_type": "code",
   "execution_count": 85,
   "metadata": {
    "collapsed": false
   },
   "outputs": [
    {
     "name": "stdout",
     "output_type": "stream",
     "text": [
      "N passes, 2.Satisfied, (but 1. is not)\n",
      "a is not a Rabin Miller Witness\n",
      "a= 11 is a Rabin Miller witness (that n is not a prime)\n"
     ]
    }
   ],
   "source": [
    "# 5.5 FIND A RABIN MILLER WITNESS\n",
    "N=1729\n",
    "#N=2^k q+1\n",
    "factor(N-1)\n",
    "k=6\n",
    "q=3^3\n",
    "\n",
    "a=9\n",
    "#check if a is a Rabin Miller Witness\n",
    "#Check 1: a^q=?1 mod N\n",
    "count = 0\n",
    "for a in [10..1728]:\n",
    "    if count == 1:\n",
    "        break\n",
    "\n",
    "    l=pow(a,q,N)\n",
    "    if l==1:\n",
    "        print 'N passes the rabbin miller test, 1.Satisfied'\n",
    "        print 'a is not a Rabin Miller Witness'\n",
    "    else:\n",
    "        m=0 #counts how many times we get -1\n",
    "        for i in [0..5]:\n",
    "            y=pow(a,q*2^i,N)\n",
    "            if y==-1:\n",
    "                m=m+1\n",
    "        if m>0:\n",
    "            print 'N passes, 2.Satisfied, (but 1. is not)'\n",
    "            print 'a is not a Rabin Miller Witness'\n",
    "        else:\n",
    "            print 'a=',a,'is a Rabin Miller witness (that n is not a prime)'\n",
    "            count = count+1 \n",
    "            #change the value of count to get more witness\n",
    "\n"
   ]
  },
  {
   "cell_type": "code",
   "execution_count": 91,
   "metadata": {
    "collapsed": false
   },
   "outputs": [
    {
     "name": "stdout",
     "output_type": "stream",
     "text": [
      "12\n"
     ]
    }
   ],
   "source": [
    "#5.6 CREATE INDIEX\n",
    "#THIS IS HOW WE CAN SOLVE MOD EQUATIONS\n",
    "for x in [1..12]:\n",
    "    if (mod((2^x),13)==1):\n",
    "        print x"
   ]
  },
  {
   "cell_type": "markdown",
   "metadata": {
    "collapsed": false
   },
   "source": [
    "g = 2\n",
    "k = 141312\n",
    "p = 194813\n",
    "\n",
    "#Generation of public key\n",
    "a = (g^k)%p\n",
    "print 'VALUE OF a',a\n",
    "print 'a = ',a,' ≅ ',g,'^',k,' mod ',p\n",
    "\n",
    "#Encrypting message \n",
    "m = 173124\n",
    "r = 136297 \n",
    "e1 = (g^r)%p\n",
    "print 'VALUE OF e1',e1\n",
    "print 'e1 = ',e1,' ≅ ',g,'^',r,' mod ',p\n",
    "\n",
    "e2 = (m*(a^r))%p\n",
    "print 'VALUE OF e2',e2\n",
    "print 'e2 = ',e2,' ≅ ',m,'*',a,'^',r,' mod ',p\n",
    "\n",
    "print 'Thus the message sent is (',e1,',',e2,')'\n",
    "\n",
    "#Decrypting Message \n",
    "c = (e1^k)%p\n",
    "print 'VALUE OF c',c\n",
    "print 'c = ',c,' ≅ ',e1,'^',k,' mod ',p\n",
    "\n",
    "#now we calculate inverse of the mod\n",
    "im = inverse_mod(c,p)\n",
    "dM = (e2*im)%p\n",
    "print 'Decyrpted Message = ',dM,' ≅ ',e2,'*',im,' mod ',p\n",
    "\n",
    "\n",
    "\n",
    "sqrt(34).n()\n",
    "125%11\n",
    "print (7^6)%11\n",
    "print 3^4\n",
    "print 5^3\n",
    "print 7^2\n",
    "print 49%11\n",
    "for i in range(10):\n",
    "        z=i^2\n",
    "        if (z)%11==4: \n",
    "            print i\n",
    "\n",
    "factor(253*5)\n",
    "a = 2\n",
    "2^6\n",
    "gcd(4,13)\n"
   ]
  },
  {
   "cell_type": "code",
   "execution_count": 143,
   "metadata": {
    "collapsed": false
   },
   "outputs": [
    {
     "name": "stdout",
     "output_type": "stream",
     "text": [
      "VALUE OF a IS  12\n",
      "THIS IS THE ANSWER 4717\n",
      "I am the factor 89 113\n",
      "False\n",
      "2^4 * 7\n",
      "1\n"
     ]
    }
   ],
   "source": []
  },
  {
   "cell_type": "code",
   "execution_count": 449,
   "metadata": {
    "collapsed": false
   },
   "outputs": [
    {
     "name": "stdout",
     "output_type": "stream",
     "text": [
      "5\n",
      "[7, 14, 9, 18, 17]\n",
      "[0, 1, 2, 3, 4]\n",
      "[13, 17, 12, 4, 14]\n",
      "[5, 10, 15, 20, 25]\n",
      "1 4\n",
      "4 1\n",
      "the value of x is  6\n"
     ]
    }
   ],
   "source": [
    "# 6.2 Shanks’ Baby-step Giant-step algorithm\n",
    "#Example 2^x = 7 mod 11\n",
    "\n",
    "a = 7\n",
    "y = 2\n",
    "p = 19\n",
    "\n",
    "s = ceil(sqrt(p))\n",
    "print s\n",
    "\n",
    "A = []\n",
    "B = []\n",
    "C = [] #STORE LOCATION OF A IN THIS \n",
    "D = []\n",
    "\n",
    "for i in range(0,s):\n",
    "    value = a*(y^i) % p\n",
    "    A.append(value)\n",
    "    C.append(i)\n",
    "\n",
    "for j in range(1,s+1):\n",
    "    value = y^(j*s) % p\n",
    "    B.append(value)\n",
    "    js=j*s\n",
    "    D.append(js)\n",
    "\n",
    "print A\n",
    "print C\n",
    "print B\n",
    "print D\n",
    "\n",
    "x1,x2 =0,0\n",
    " \n",
    "for r in A:\n",
    "    for t in B:\n",
    "        if r == t:\n",
    "            x1 = A.index(r)            \n",
    "            x2 = B.index(t)\n",
    "            print x1,x2\n",
    "            break\n",
    "            \n",
    "print 'the value of x is ', ((x2+1)*s - x1) % p"
   ]
  },
  {
   "cell_type": "code",
   "execution_count": 749,
   "metadata": {
    "collapsed": false
   },
   "outputs": [
    {
     "name": "stdout",
     "output_type": "stream",
     "text": [
      "False\n",
      "True\n",
      "1\n",
      "3\n",
      "Put 1 in place of the value you have \n",
      "-1\n"
     ]
    },
    {
     "data": {
      "text/plain": [
       "1"
      ]
     },
     "execution_count": 749,
     "metadata": {},
     "output_type": "execute_result"
    }
   ],
   "source": [
    "#7.1 Legendre Symbol and Qudaratic reciprocity\n",
    "p = 1\n",
    "q = 3\n",
    "print is_prime(p)\n",
    "print is_prime(q)\n",
    "f = 0\n",
    "if(is_prime(p)&is_prime(q)):\n",
    "    print 'First Condition true flip with positive sign'\n",
    "    f = f+1\n",
    "#Condition 1 p=q==3 mod 4\n",
    "if ((p%4==3) & (q%4==3)):\n",
    "    print 'First contion failed Flip it with minus'\n",
    "if (f == 0):\n",
    "    print factor (p)\n",
    "    print factor (q)\n",
    "z = 9\n",
    "if (z%8==1 or z%8==7):\n",
    "    print 'Put 1 in place of the value you have '\n",
    "if (z%8==3 or z%8==5):  \n",
    "    print 'Put -1 in place of the value you have '\n",
    "    \n",
    "#USE THIS TO GET THE ANSWER DIRECTLY VERIFY WITH THIS \n",
    "kronecker(17,2015)\n",
    "print legendre_symbol(5,3)\n",
    "jacobi_symbol(17,2015)"
   ]
  },
  {
   "cell_type": "code",
   "execution_count": 753,
   "metadata": {
    "collapsed": false
   },
   "outputs": [
    {
     "name": "stdout",
     "output_type": "stream",
     "text": [
      "16\n",
      "-1\n",
      "16\n"
     ]
    }
   ],
   "source": [
    "#7.2 Solovay Strassen Primality Test \n",
    "#a^(n-1)/2 = (a/n) mod n \n",
    "a = 5\n",
    "n = 33\n",
    "b = kronecker(a,n)\n",
    "k = (n-1)/2\n",
    "print k\n",
    "print b\n",
    "z = (a^k)%n\n",
    "print z\n",
    "if (b == z):\n",
    "    print 'The given number passes the solovay Strassen Primality Test'"
   ]
  },
  {
   "cell_type": "code",
   "execution_count": 318,
   "metadata": {
    "collapsed": false
   },
   "outputs": [
    {
     "name": "stdout",
     "output_type": "stream",
     "text": [
      "4 , 9\n"
     ]
    }
   ],
   "source": [
    "#8.1 Calculate the third point on elliptic curve if the first and second points are known \n",
    "# eq =[(y^2) == (x^3)+a*(x^2)+(b*x)+c]\n",
    "a = 0\n",
    "b = 0\n",
    "c = 17\n",
    "x1 = -2\n",
    "y1 = 3\n",
    "x2 = -1\n",
    "y2 = 4\n",
    "m = (y2-y1)/(x2-x1)\n",
    "x3 = (-a)+(m^2)-x1-x2\n",
    "y3 = y1+m*(-a+(m^2)-(2*x1)-x2)\n",
    "print x3,',',y3"
   ]
  },
  {
   "cell_type": "code",
   "execution_count": 264,
   "metadata": {
    "collapsed": false
   },
   "outputs": [
    {
     "name": "stdout",
     "output_type": "stream",
     "text": [
      "8 , 23\n"
     ]
    }
   ],
   "source": [
    "#8.2 Calculate the second point on an elliptic curve if only one point is known \n",
    "# eq =[(y^2) == (x^3)+a*(x^2)+(b*x)+c]\n",
    "a = 0\n",
    "b = 0\n",
    "c = 17\n",
    "x1 = -2\n",
    "y1 = 3\n",
    "m = (3*(x1^2)+(2*a*x1)+b)/(2*y1)\n",
    "x2 = (-a)+(m^2)-2*x1\n",
    "y2 = y1+m*(-a+(m^2)-(3*x1))\n",
    "print x2,',',y2"
   ]
  },
  {
   "cell_type": "code",
   "execution_count": 445,
   "metadata": {
    "collapsed": false
   },
   "outputs": [
    {
     "name": "stdout",
     "output_type": "stream",
     "text": [
      "Value of M is =  7\n",
      "Value of X is =  2\n",
      "Value of Y is = 8\n",
      "The point 2P is = ( 2 , 8 )\n",
      "The this point is = ( 7 , 6 )\n"
     ]
    }
   ],
   "source": [
    "#9.1 To Calculate multiples of Point modulo prime\n",
    "# NOTE IF y1 =0 2P is point of infinity \n",
    "x1 = 7\n",
    "y1 = 5\n",
    "a = 0\n",
    "b = 0\n",
    "p = 11\n",
    "m = (((3*x1^2)+(2*a*x1)+b)/(2*y1))%p\n",
    "print 'Value of M is = ',m\n",
    "x = ((-a)+(m^2)-2*x1)%p\n",
    "print 'Value of X is = ',x\n",
    "k = m*(x1-x)\n",
    "y = (k-y1)%p\n",
    "print 'Value of Y is =',y\n",
    "print 'The point 2P is = (',x,',',y,')'\n",
    "calCulateMore(2,3,x1,y1)\n",
    "#Use this to find 3P and so one, after finding 3P plug in 3P+P to find 4P and so on.\n",
    "def calCulateMore(x1,y1,x2,y2):\n",
    "    m = ((y2-y1)/(x2-x1))%p\n",
    "    x = (-a+(m^2)-x1-x2)%p\n",
    "    y = (-y1+m*(x1-x))%p\n",
    "    print 'The this point is = (',x,',',y,')'"
   ]
  },
  {
   "cell_type": "code",
   "execution_count": 271,
   "metadata": {
    "collapsed": false
   },
   "outputs": [
    {
     "name": "stdout",
     "output_type": "stream",
     "text": [
      "ITRATION No 0\n",
      "X =  0\n",
      "X^2 =  0\n",
      "Y^2 =  0\n",
      "ITRATION No 1\n",
      "X =  1\n",
      "X^2 =  1\n",
      "Y^2 =  1\n",
      "ITRATION No 2\n",
      "X =  2\n",
      "X^2 =  4\n",
      "Y^2 =  2\n",
      "ITRATION No 3\n",
      "X =  3\n",
      "X^2 =  4\n",
      "Y^2 =  4\n",
      "ITRATION No 4\n",
      "X =  4\n",
      "X^2 =  1\n",
      "Y^2 =  3\n",
      "Table for x =    [0, 1, 2, 3, 4]\n",
      "Table for X^2 =  [0, 1, 4, 4, 1]\n",
      "Table for Y^2 =  [0, 1, 2, 4, 3]\n"
     ]
    }
   ],
   "source": [
    "#9.2 Finding all points on an elliptic Curve modulo p \n",
    "# Equation of curve y^2 = x^3 - 3*x^2 + 3*x mod 5\n",
    "p = 5\n",
    "X = []\n",
    "X2 = []\n",
    "Y2 = []\n",
    "for i in range(p):\n",
    "    print 'ITRATION No',i\n",
    "    k = i%p\n",
    "    print 'X = ',k\n",
    "    X.append(k)\n",
    "    l = (i^2)%p\n",
    "    print 'X^2 = ',l\n",
    "    X2.append(l)\n",
    "    e = (i^3)-3*(i^2)+3*i\n",
    "    eq = e%p\n",
    "    Y2.append(eq)\n",
    "    print 'Y^2 = ', eq\n",
    "\n",
    "print 'Table for x =   ',X\n",
    "print 'Table for X^2 = ',X2\n",
    "print 'Table for Y^2 = ',Y2"
   ]
  },
  {
   "cell_type": "code",
   "execution_count": 330,
   "metadata": {
    "collapsed": false
   },
   "outputs": [
    {
     "data": {
      "text/plain": [
       "[0, 0, 0, 1, 1, 0, 1, 1, 1, 1, 1]"
      ]
     },
     "execution_count": 330,
     "metadata": {},
     "output_type": "execute_result"
    }
   ],
   "source": [
    "#9.3 Succesive Squaring \n",
    "n = 2008\n",
    "n.digits(2)"
   ]
  },
  {
   "cell_type": "code",
   "execution_count": 789,
   "metadata": {
    "collapsed": false
   },
   "outputs": [
    {
     "name": "stdout",
     "output_type": "stream",
     "text": [
      "88\n",
      "I am round Number  0\n",
      "s^2 - n =  7744 - 7663\n",
      "= 81\n",
      "The number is a perfect square so we have  9\n",
      "The factors are ( 79 , 97 )\n"
     ]
    },
    {
     "data": {
      "text/plain": [
       "True"
      ]
     },
     "execution_count": 789,
     "metadata": {},
     "output_type": "execute_result"
    }
   ],
   "source": [
    "#10.1 Fermat Factorisation\n",
    "n = 7663\n",
    "s = ceil(sqrt(n))\n",
    "print s\n",
    "m = 0\n",
    "i = 0\n",
    "while m==0:\n",
    "    print 'I am round Number ',i\n",
    "    z = (s^2)-n\n",
    "    print 's^2 - n = ',s^2,'-',n\n",
    "    print '=',z\n",
    "    if(z.is_perfect_power()):\n",
    "        print 'The number is a perfect square so we have ',sqrt(z)\n",
    "        print 'The factors are (',s-sqrt(z),',',s+sqrt(z),')'\n",
    "        break\n",
    "    s = s+1\n",
    "    i = i+1\n",
    "    print 'The number ',z,'is not a perfect square so we try a new value'\n",
    "    \n",
    "79*97\n",
    "factor(7663)\n",
    "is_prime(97)"
   ]
  },
  {
   "cell_type": "code",
   "execution_count": 783,
   "metadata": {
    "collapsed": false
   },
   "outputs": [
    {
     "name": "stdout",
     "output_type": "stream",
     "text": [
      "8 68\n",
      "1\n",
      "I am counting  0\n",
      "68 1911 1843 19\n",
      "DONE Found a factor\n",
      "19\n",
      "143\n"
     ]
    },
    {
     "data": {
      "text/plain": [
       "2717"
      ]
     },
     "execution_count": 783,
     "metadata": {},
     "output_type": "execute_result"
    }
   ],
   "source": [
    "#10.2 Pollard's Rho Method \n",
    "n = 2717\n",
    "x = 2\n",
    "x1 = ((x^2)+4)%n\n",
    "x2 = ((x1^2)+4)%n\n",
    "s=abs(x1-x2)\n",
    "print x1,x2\n",
    "print gcd(s,n)\n",
    "count =0\n",
    "m=0\n",
    "while m==0:\n",
    "    print 'I am counting ',count\n",
    "    x1=((x1^2)+4)%n\n",
    "    x2=((x1^2)+4)%n\n",
    "    s=abs(x1-x2)\n",
    "    print x1,x2,s,gcd(s,n)\n",
    "    if gcd(s,n)>1:\n",
    "        print 'DONE Found a factor'\n",
    "        print gcd(s,n)\n",
    "        m=1\n",
    "        break\n",
    "    print 'Value of x2 is ',x2\n",
    "    x1=x2\n",
    "    print 'value of x1 is ',x1\n",
    "    count = count+1\n",
    "print 2717/19 \n",
    "is_prime(143)\n",
    "19*143"
   ]
  },
  {
   "cell_type": "code",
   "execution_count": 418,
   "metadata": {
    "collapsed": false
   },
   "outputs": [
    {
     "name": "stdout",
     "output_type": "stream",
     "text": [
      "VALUE OF a IS  12\n",
      "THIS IS THE ANSWER 174\n",
      "I am the factor 29 59\n"
     ]
    }
   ],
   "source": [
    "#polards ro -1 factors \n",
    "B = 12\n",
    "factorOfB = factorial(4)\n",
    "N = 1711\n",
    "for i in [2..20]:\n",
    "    k = ((i^factorOfB))%N\n",
    "    g = gcd(k-1,N)\n",
    "    if gcd(k-1,N)>1:\n",
    "        print 'VALUE OF a IS ',i\n",
    "        print 'THIS IS THE ANSWER',k-1\n",
    "        otherfactor = N/g\n",
    "        print 'I am the factor',g,otherfactor\n",
    "        break \n"
   ]
  },
  {
   "cell_type": "code",
   "execution_count": 660,
   "metadata": {
    "collapsed": false
   },
   "outputs": [
    {
     "name": "stdout",
     "output_type": "stream",
     "text": [
      "(1 : 1 : 1)\n",
      "verbose 0 (163: primitive.py, options) WARNING: Ignoring option 'thickness'=2\n",
      "verbose 0 (163: primitive.py, options) \n",
      "The allowed options for Point set defined by 104 point(s) are:\n",
      "    alpha          How transparent the point is.                               \n",
      "    faceted        If True color the edge of the point. (only for 2D plots)    \n",
      "    hue            The color given as a hue.                                   \n",
      "    legend_color   The color of the legend text                                \n",
      "    legend_label   The label for this item in the legend.                      \n",
      "    marker         the marker symbol for 2D plots only (see documentation of plot() for details)\n",
      "    markeredgecolorthe color of the marker edge (only for 2D plots)            \n",
      "    rgbcolor       The color as an RGB tuple.                                  \n",
      "    size           How big the point is (i.e., area in points^2=(1/72 inch)^2).\n",
      "    zorder         The layer level in which to draw                            \n",
      "\n",
      "verbose 0 (163: primitive.py, options) WARNING: Ignoring option 'thickness'=2\n",
      "verbose 0 (163: primitive.py, options) \n",
      "The allowed options for Point set defined by 104 point(s) are:\n",
      "    alpha          How transparent the point is.                               \n",
      "    faceted        If True color the edge of the point. (only for 2D plots)    \n",
      "    hue            The color given as a hue.                                   \n",
      "    legend_color   The color of the legend text                                \n",
      "    legend_label   The label for this item in the legend.                      \n",
      "    marker         the marker symbol for 2D plots only (see documentation of plot() for details)\n",
      "    markeredgecolorthe color of the marker edge (only for 2D plots)            \n",
      "    rgbcolor       The color as an RGB tuple.                                  \n",
      "    size           How big the point is (i.e., area in points^2=(1/72 inch)^2).\n",
      "    zorder         The layer level in which to draw                            \n",
      "\n",
      "verbose 0 (163: primitive.py, options) WARNING: Ignoring option 'thickness'=2\n",
      "verbose 0 (163: primitive.py, options) \n",
      "The allowed options for Point set defined by 104 point(s) are:\n",
      "    alpha          How transparent the point is.                               \n",
      "    faceted        If True color the edge of the point. (only for 2D plots)    \n",
      "    hue            The color given as a hue.                                   \n",
      "    legend_color   The color of the legend text                                \n",
      "    legend_label   The label for this item in the legend.                      \n",
      "    marker         the marker symbol for 2D plots only (see documentation of plot() for details)\n",
      "    markeredgecolorthe color of the marker edge (only for 2D plots)            \n",
      "    rgbcolor       The color as an RGB tuple.                                  \n",
      "    size           How big the point is (i.e., area in points^2=(1/72 inch)^2).\n",
      "    zorder         The layer level in which to draw                            \n",
      "\n"
     ]
    },
    {
     "data": {
      "image/png": "[encoded data removed]",
      "text/plain": [
       "Graphics object consisting of 1 graphics primitive"
      ]
     },
     "execution_count": 660,
     "metadata": {},
     "output_type": "execute_result"
    }
   ],
   "source": [
    "var ('y,x')\n",
    "e = EllipticCurve(y^2==(x^3)+(2*x)-2)\n",
    "P = e(1,1)\n",
    "print P\n",
    "\n",
    "# USE THIS TO FIND NUMBER OF POINTS ON AN CURVE\n",
    "x,y = var('x,y')\n",
    "EllipticCurve(GF(5,'a'),[0,0,0,2,1]).cardinality()\n",
    "E = EllipticCurve(GF(5,'a'),[0,0,0,2,1])\n",
    "\n",
    "\n",
    "E=EllipticCurve(GF(101,'a'),[2,53])\n",
    "E.plot(thickness=2)"
   ]
  },
  {
   "cell_type": "code",
   "execution_count": 775,
   "metadata": {
    "collapsed": false
   },
   "outputs": [
    {
     "name": "stdout",
     "output_type": "stream",
     "text": [
      "0\n",
      "7\n",
      "========\n",
      "0\n",
      "143\n",
      "This is what you want  6\n",
      "9 9\n"
     ]
    },
    {
     "data": {
      "text/plain": [
       "45"
      ]
     },
     "execution_count": 775,
     "metadata": {},
     "output_type": "execute_result"
    }
   ],
   "source": [
    "143%7\n",
    "\n",
    "for i in range(2):\n",
    "    print 7*i\n",
    "print '========'\n",
    "for i in range(2):\n",
    "    print 143*i    \n",
    "    \n",
    "(5*143)%7\n",
    "5*56\n",
    "7-280\n",
    "-273%7\n",
    "\n",
    "for i in range(20):\n",
    "    if ((i*13)%7)==1:\n",
    "        print 'This is what you want ',i \n",
    "        break\n",
    "-670%7\n",
    "143*2\n",
    "286+135\n",
    "7+11+13\n",
    "421%1001\n",
    "421%7\n",
    "10%11\n",
    "4*7*13\n",
    "\n",
    "a = (3^2)%43\n",
    "b = ((7^3)+(13*7)+5)%43\n",
    "print a , b\n",
    "\n",
    "#multiplicative Inverse \n",
    "inverse_mod(2,101)\n",
    "\n",
    "(15*3)%91"
   ]
  },
  {
   "cell_type": "code",
   "execution_count": null,
   "metadata": {
    "collapsed": true
   },
   "outputs": [],
   "source": [
    ".GF"
   ]
  },
  {
   "cell_type": "code",
   "execution_count": 752,
   "metadata": {
    "collapsed": false
   },
   "outputs": [
    {
     "name": "stdout",
     "output_type": "stream",
     "text": [
      "Value of M is =  3/8\n",
      "Value of X is =  137/64\n",
      "Value of Y is = -2651/512\n",
      "The point 2P is = ( 137/64 , -2651/512 )\n",
      "The this point is = ( -8/9 , -107/27 )\n",
      "7027801/262144 7027801/262144\n",
      "7309 * 8623 * 9203\n"
     ]
    },
    {
     "data": {
      "text/plain": [
       "16"
      ]
     },
     "execution_count": 752,
     "metadata": {},
     "output_type": "execute_result"
    }
   ],
   "source": [
    "#CALCULATE 2P for non mod values as well.\n",
    "x1 = -1\n",
    "y1 = 4\n",
    "a = 0\n",
    "b = 0\n",
    "\n",
    "m = (((3*x1^2)+(2*a*x1)+b)/(2*y1))\n",
    "print 'Value of M is = ',m\n",
    "x = ((-a)+(m^2)-2*x1)\n",
    "print 'Value of X is = ',x\n",
    "k = m*(x1-x)\n",
    "y = (k-y1)\n",
    "print 'Value of Y is =',y\n",
    "print 'The point 2P is = (',x,',',y,')'\n",
    "calCulateMore(2,3,x1,y1)\n",
    "#Use this to find 3P and so one, after finding 3P plug in 3P+P to find 4P and so on.\n",
    "def calCulateMore(x1,y1,x2,y2):\n",
    "    m = ((y2-y1)/(x2-x1))\n",
    "    x = (-a+(m^2)-x1-x2)\n",
    "    y = (-y1+m*(x1-x))\n",
    "    print 'The this point is = (',x,',',y,')'\n",
    "    \n",
    "na = ((137/64)^3)+17\n",
    "nb = (-2651/512)^2\n",
    "print na,nb\n",
    "\n",
    "print factor(580023740921)\n",
    "is_prime(9203)\n",
    "-13%7\n",
    "factor(117)\n",
    "is_prime(117)\n",
    "(5^16)%33\n"
   ]
  },
  {
   "cell_type": "code",
   "execution_count": 800,
   "metadata": {
    "collapsed": false
   },
   "outputs": [
    {
     "name": "stdout",
     "output_type": "stream",
     "text": [
      "Prime Numbers: 2011 2017\n",
      "The Value of e = 2999\n",
      "The value of N =  4056187\n",
      "The value of e (Public Key) =  2999\n",
      "The value of d (Private Key) =  483719\n",
      "I am the encrypted message 3692935\n",
      "I am Decryption 2463755\n"
     ]
    }
   ],
   "source": [
    "#p = random_prime(10^10-1,False,10^8)\n",
    "#q = random_prime(10^10-1,False,10^8)\n",
    "p = 2011\n",
    "q = 2017\n",
    "print 'Prime Numbers:',p,q\n",
    "n = p*q\n",
    "z = (p-1)*(q-1)\n",
    "pi = euler_phi(n)\n",
    "e = 2999\n",
    "#while gcd(e,pi)!=1:\n",
    "#    e=ZZ.random_element(pi)\n",
    "print 'The Value of e =',e\n",
    "\n",
    "d = lift(Mod(e,pi)^(-1))\n",
    "print 'The value of N = ',n\n",
    "print 'The value of e (Public Key) = ',e\n",
    "print 'The value of d (Private Key) = ',d\n",
    "\n",
    "m = 123456\n",
    "ET = (Mod(m,n)^e)\n",
    "print 'I am the encrypted message',ET\n",
    "ET = 1721829\n",
    "DT = (Mod(ET,n)^d)\n",
    "print 'I am Decryption',DT\n",
    "\n",
    "#SOLUTION PART 2\n",
    "#nn = 580023740921\n",
    "#factor (nn)\n",
    "#pil = euler_phi(nn)\n",
    "#print pil\n",
    "#ek = 18481137817\n",
    "#d = lift(Mod(ek,pil)^(-1))\n",
    "#print d"
   ]
  }
 ],
 "metadata": {
  "kernelspec": {
   "display_name": "SageMath 7.4",
   "language": "",
   "name": "sagemath"
  },
  "language_info": {
   "codemirror_mode": {
    "name": "ipython",
    "version": 2
   },
   "file_extension": ".py",
   "mimetype": "text/x-python",
   "name": "python",
   "nbconvert_exporter": "python",
   "pygments_lexer": "ipython2",
   "version": "2.7.10"
  }
 },
 "nbformat": 4,
 "nbformat_minor": 0
}
